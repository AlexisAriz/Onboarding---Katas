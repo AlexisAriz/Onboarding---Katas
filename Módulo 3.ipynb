{
 "cells": [
  {
   "cell_type": "code",
   "execution_count": 24,
   "metadata": {},
   "outputs": [
    {
     "name": "stdout",
     "output_type": "stream",
     "text": [
      "!Un asteroide se acerca a la Tierra demasiado rápido¡\n"
     ]
    }
   ],
   "source": [
    "velocidad = 49\n",
    "if velocidad > 25:\n",
    "    print(\"!Un asteroide se acerca a la Tierra demasiado rápido¡\")\n",
    "else:\n",
    "    print(\"Puedes seguir con tu día.\")\n",
    "\n"
   ]
  },
  {
   "cell_type": "code",
   "execution_count": 25,
   "metadata": {},
   "outputs": [
    {
     "name": "stdout",
     "output_type": "stream",
     "text": [
      "Puedes seguir con tu día.\n"
     ]
    }
   ],
   "source": [
    "velocidad = 19\n",
    "if (velocidad > 20):\n",
    "    print(\"Deben buscar un asteroide en el cielo.\")\n",
    "elif velocidad == 20:\n",
    "    print(\"Deben buscar un asteroide en el cielo.\")\n",
    "else:\n",
    "    print(\"Puedes seguir con tu día.\")"
   ]
  },
  {
   "cell_type": "code",
   "execution_count": 32,
   "metadata": {},
   "outputs": [
    {
     "name": "stdout",
     "output_type": "stream",
     "text": [
      "Puedes seguir con tu día.\n"
     ]
    }
   ],
   "source": [
    "velocidad = 19\n",
    "tamano = 10\n",
    "if velocidad > 25 and tamano > 25:\n",
    "    print(\"Deben buscar un asteroide en el cielo.\")\n",
    "elif velocidad >= 20:\n",
    "    print(\"Deben buscar un asteroide en el cielo.\")\n",
    "elif tamano < 25:\n",
    "    print(\"Puedes seguir con tu día.\")\n",
    "else:\n",
    "    print(\"Puedes seguir con tu día.\")"
   ]
  }
 ],
 "metadata": {
  "interpreter": {
   "hash": "b89b5cfaba6639976dc87ff2fec6d58faec662063367e2c229c520fe71072417"
  },
  "kernelspec": {
   "display_name": "Python 3.10.2 64-bit",
   "language": "python",
   "name": "python3"
  },
  "language_info": {
   "codemirror_mode": {
    "name": "ipython",
    "version": 3
   },
   "file_extension": ".py",
   "mimetype": "text/x-python",
   "name": "python",
   "nbconvert_exporter": "python",
   "pygments_lexer": "ipython3",
   "version": "3.10.2"
  },
  "orig_nbformat": 4
 },
 "nbformat": 4,
 "nbformat_minor": 2
}
